{
 "cells": [
  {
   "cell_type": "markdown",
   "metadata": {},
   "source": [
    "## Задания по семинару 2"
   ]
  },
  {
   "cell_type": "markdown",
   "metadata": {},
   "source": [
    "В ячеке под заданием приведите его решение. Для заданий, рассмотренных на семинаре, можете использовать решение полученное на занятии."
   ]
  },
  {
   "cell_type": "markdown",
   "metadata": {},
   "source": [
    "-----"
   ]
  },
  {
   "cell_type": "markdown",
   "metadata": {},
   "source": [
    "0) Получить переменную, содержащую строку со значением равным двум в одиннадцатой степени и вывести ее на экран."
   ]
  },
  {
   "cell_type": "code",
   "execution_count": 1,
   "metadata": {},
   "outputs": [
    {
     "name": "stdout",
     "output_type": "stream",
     "text": [
      "2048 <class 'str'>\n"
     ]
    }
   ],
   "source": [
    "s = str(2**11)\n",
    "print(s, type(s))"
   ]
  },
  {
   "cell_type": "markdown",
   "metadata": {},
   "source": [
    "1) Наибольшим количеством способов создать строковую переменную, содержащую текст:\n",
    "\n",
    "It's \"quoted string\"\n",
    "\n",
    "2) Наибольшим количеством способов создать строковую переменную, содержащую текст:\n",
    "\n",
    "line1\n",
    "\n",
    "line2\n",
    "\n",
    "line3\n",
    "\n",
    "3) Наибольшим количеством способов создать строковую переменную, содержащую текст:\n",
    "\n",
    "\\\\\\\\\\\\\\\\\n",
    "\n",
    "\\\\\\\\\\\\\n",
    "\n",
    "\\\\\\\\\n",
    "\n",
    "\\\\"
   ]
  },
  {
   "cell_type": "code",
   "execution_count": 22,
   "metadata": {},
   "outputs": [
    {
     "name": "stdout",
     "output_type": "stream",
     "text": [
      "It's \"quoted string\"   It's \"quoted string\"   It's \"quoted string\"   It's \"quoted string\"   It's  \"quoted string\"\n"
     ]
    }
   ],
   "source": [
    "s1= 'It\\'s \"quoted string\"'\n",
    "s2= \"It\\'s \\\"quoted string\\\"\"\n",
    "s3= 'It'+\"'\"+'s \"quoted string\"'\n",
    "s4= '''It's \"quoted string\"'''\n",
    "b=' \"quoted string\"'\n",
    "s5=\"It's %s\" %b\n",
    "print(s1,' ',s2,' ',s3,' ', s4,' ',s5)"
   ]
  },
  {
   "cell_type": "markdown",
   "metadata": {},
   "source": [
    "----"
   ]
  },
  {
   "cell_type": "code",
   "execution_count": 15,
   "metadata": {},
   "outputs": [
    {
     "name": "stdout",
     "output_type": "stream",
     "text": [
      "line1\n",
      "line2\n",
      "line3\n",
      "line1 \n",
      "line2 \n",
      "line3\n"
     ]
    }
   ],
   "source": [
    "z1='''line1\n",
    "line2\n",
    "line3'''\n",
    "print(z1)\n",
    "z1='line1 \\nline2 \\nline3'\n",
    "print(z1)\n"
   ]
  },
  {
   "cell_type": "code",
   "execution_count": 6,
   "metadata": {},
   "outputs": [
    {
     "name": "stdout",
     "output_type": "stream",
     "text": [
      "\\\\\\\\ \n",
      "\\\\\\ \n",
      "\\\\ \n",
      "\\\n"
     ]
    }
   ],
   "source": [
    "z1='\\\\\\\\\\\\\\ \\n\\\\\\\\\\ \\n\\\\\\ \\n\\\\'\n",
    "print(z1)\n"
   ]
  },
  {
   "cell_type": "markdown",
   "metadata": {},
   "source": [
    "4) Вывести 5й с начала и 5й с конца символ из строки 'Hello world'"
   ]
  },
  {
   "cell_type": "code",
   "execution_count": 1,
   "metadata": {},
   "outputs": [
    {
     "name": "stdout",
     "output_type": "stream",
     "text": [
      "o   w\n"
     ]
    }
   ],
   "source": [
    "st = 'Hello world'\n",
    "print(st[4],' ', st[-5])"
   ]
  },
  {
   "cell_type": "markdown",
   "metadata": {},
   "source": [
    "5) Двумя способами получить символ 'w' из строки 'Hello world'"
   ]
  },
  {
   "cell_type": "code",
   "execution_count": 2,
   "metadata": {},
   "outputs": [
    {
     "name": "stdout",
     "output_type": "stream",
     "text": [
      "w w\n"
     ]
    }
   ],
   "source": [
    "st='Hello world'\n",
    "print(st[6],st[-5])"
   ]
  },
  {
   "cell_type": "markdown",
   "metadata": {},
   "source": [
    "6) Вывести символ, находящийся в середине заранее низвестной строки, полученной с помощью функции input()"
   ]
  },
  {
   "cell_type": "code",
   "execution_count": 9,
   "metadata": {},
   "outputs": [
    {
     "name": "stdout",
     "output_type": "stream",
     "text": [
      "qwertyu\n",
      "r\n"
     ]
    }
   ],
   "source": [
    "s=input()\n",
    "print(s[len(s)//2])"
   ]
  },
  {
   "cell_type": "markdown",
   "metadata": {},
   "source": [
    "7) Для строки 'Light ray' двумя способами получить подстроку с 1го по 4й символы включительно."
   ]
  },
  {
   "cell_type": "code",
   "execution_count": 4,
   "metadata": {},
   "outputs": [
    {
     "name": "stdout",
     "output_type": "stream",
     "text": [
      "Ligh\n",
      "Ligh\n"
     ]
    }
   ],
   "source": [
    "s='Light ray'\n",
    "print(s[0:4])\n",
    "print(s[-9:-5])"
   ]
  },
  {
   "cell_type": "markdown",
   "metadata": {},
   "source": [
    "8) Для строки 'My new text' двумя способами получить подстроку с 3го по 7й символы включительно."
   ]
  },
  {
   "cell_type": "code",
   "execution_count": 11,
   "metadata": {},
   "outputs": [
    {
     "name": "stdout",
     "output_type": "stream",
     "text": [
      " new \n",
      " new \n"
     ]
    }
   ],
   "source": [
    "s='My new text'\n",
    "print(s[2:7])\n",
    "print(s[-9:-4])"
   ]
  },
  {
   "cell_type": "markdown",
   "metadata": {},
   "source": [
    "9) Получить подстроку из последних 4х символов строки 'Light ray'."
   ]
  },
  {
   "cell_type": "code",
   "execution_count": 13,
   "metadata": {},
   "outputs": [
    {
     "name": "stdout",
     "output_type": "stream",
     "text": [
      " ray\n"
     ]
    }
   ],
   "source": [
    "s='Light ray'\n",
    "print(s[-4:])"
   ]
  },
  {
   "cell_type": "markdown",
   "metadata": {},
   "source": [
    "10) Составить строку из всех четных символов строки 'Light ray'."
   ]
  },
  {
   "cell_type": "code",
   "execution_count": 2,
   "metadata": {},
   "outputs": [
    {
     "name": "stdout",
     "output_type": "stream",
     "text": [
      "ih a\n"
     ]
    }
   ],
   "source": [
    "s='Light ray'\n",
    "print(s[1::2])"
   ]
  },
  {
   "cell_type": "markdown",
   "metadata": {},
   "source": [
    "11) Составить строку из всех нечетных символов строки 'Light ray'."
   ]
  },
  {
   "cell_type": "code",
   "execution_count": 1,
   "metadata": {},
   "outputs": [
    {
     "name": "stdout",
     "output_type": "stream",
     "text": [
      "Lgtry\n"
     ]
    }
   ],
   "source": [
    "s='Light ray'\n",
    "print(s[::2])"
   ]
  },
  {
   "cell_type": "markdown",
   "metadata": {},
   "source": [
    "12) Инвертировать (получить строку с обратной последовательностью символо) строку  'Light ray'."
   ]
  },
  {
   "cell_type": "code",
   "execution_count": 16,
   "metadata": {},
   "outputs": [
    {
     "name": "stdout",
     "output_type": "stream",
     "text": [
      "yar thgiL\n"
     ]
    }
   ],
   "source": [
    "s='Light ray'\n",
    "print(s[::-1])"
   ]
  },
  {
   "cell_type": "markdown",
   "metadata": {},
   "source": [
    "13) Вывести c третьего с начала до предпоследнего символа заранее низвестной строки, полученной с помощью функции input()."
   ]
  },
  {
   "cell_type": "code",
   "execution_count": null,
   "metadata": {
    "collapsed": true
   },
   "outputs": [],
   "source": [
    "s = input()\n",
    "print(s[2:-1])"
   ]
  },
  {
   "cell_type": "markdown",
   "metadata": {},
   "source": [
    "14) Получить подстроку неизвестной заранее строки, содержащую половину символов строки и расположенную по середине строки."
   ]
  },
  {
   "cell_type": "code",
   "execution_count": 10,
   "metadata": {},
   "outputs": [
    {
     "name": "stdout",
     "output_type": "stream",
     "text": [
      "AaBbCcDdEeGg\n",
      "bCcDdE\n"
     ]
    }
   ],
   "source": [
    "#cтрока кратна 4\n",
    "s = input()\n",
    "i = len(s)//4\n",
    "print(s[i:-i])"
   ]
  },
  {
   "cell_type": "markdown",
   "metadata": {},
   "source": [
    "----"
   ]
  },
  {
   "cell_type": "markdown",
   "metadata": {},
   "source": [
    "15) Проверить, содержит ли произвольная строка, прочитанная в обратную сторону, последовательность 'eno' "
   ]
  },
  {
   "cell_type": "code",
   "execution_count": 48,
   "metadata": {},
   "outputs": [
    {
     "name": "stdout",
     "output_type": "stream",
     "text": [
      "sone\n",
      "содержится\n"
     ]
    }
   ],
   "source": [
    "s = input()\n",
    "s1 = 'eno'\n",
    "if s1 in s[::-1]:\n",
    "    print('содержится')\n",
    "else: \n",
    "    print('не содержится')"
   ]
  },
  {
   "cell_type": "markdown",
   "metadata": {},
   "source": [
    "16) Получить строку, начинающуюся с последних 3 символов стркои 'Light ray', а заканчивающуюся подстрокой с 1го до 4го  символоа строки."
   ]
  },
  {
   "cell_type": "code",
   "execution_count": 29,
   "metadata": {},
   "outputs": [
    {
     "name": "stdout",
     "output_type": "stream",
     "text": [
      "rayLigh\n"
     ]
    }
   ],
   "source": [
    "s='Light ray'\n",
    "print(s[-3:]+s[0:4])"
   ]
  },
  {
   "cell_type": "markdown",
   "metadata": {},
   "source": [
    "17) Коротко записать создание строки 'oneoneoneoneoneonetwotwotwo'"
   ]
  },
  {
   "cell_type": "code",
   "execution_count": 19,
   "metadata": {},
   "outputs": [
    {
     "name": "stdout",
     "output_type": "stream",
     "text": [
      "oneoneoneoneoneonetwotwotwo\n"
     ]
    }
   ],
   "source": [
    "print('one'*6+'two'*3)"
   ]
  },
  {
   "cell_type": "markdown",
   "metadata": {},
   "source": [
    "18) Разбить строку '  one,two,three,four,five,six,seven,eight,nine,ten   ' на список из строк, состоящих только из названий цифр."
   ]
  },
  {
   "cell_type": "code",
   "execution_count": 56,
   "metadata": {},
   "outputs": [
    {
     "data": {
      "text/plain": [
       "['one', 'two', 'three', 'four', 'five', 'six', 'seven', 'eight', 'nine', 'ten']"
      ]
     },
     "execution_count": 56,
     "metadata": {},
     "output_type": "execute_result"
    }
   ],
   "source": [
    "s= ' one,two,three,four,five,six,seven,eight,nine,ten '\n",
    "s.replace(' ','').split(',')"
   ]
  },
  {
   "cell_type": "markdown",
   "metadata": {},
   "source": [
    "19) Вставить между всеми символами строки 'Hello world' стрелочку '->' и сохранить результат в строковой переменной(ожидаемый результат: 'H->e->l->l->o-> ->w->o->r->l->d')"
   ]
  },
  {
   "cell_type": "code",
   "execution_count": 68,
   "metadata": {},
   "outputs": [
    {
     "data": {
      "text/plain": [
       "'H->e->l->l->o-> ->w->o->r->l->d'"
      ]
     },
     "execution_count": 68,
     "metadata": {},
     "output_type": "execute_result"
    }
   ],
   "source": [
    "s='Hello world'\n",
    "'->'.join(s)"
   ]
  },
  {
   "cell_type": "markdown",
   "metadata": {},
   "source": [
    "20) Для двух произвольных строк провести сравнение на совпадение содержимого без учета регистра букв и начальных и конечных пробельных символов. Например, для двух строк '  HeLLO WOrlD' и 'hello WORLD  ' такое сравнение должно возвращать True (содержание строк совпадает)."
   ]
  },
  {
   "cell_type": "code",
   "execution_count": 49,
   "metadata": {},
   "outputs": [
    {
     "data": {
      "text/plain": [
       "True"
      ]
     },
     "execution_count": 49,
     "metadata": {},
     "output_type": "execute_result"
    }
   ],
   "source": [
    "s1= input()\n",
    "s1=(s1.replace(' ','').lower())\n",
    "\n",
    "\n",
    "s2=input()\n",
    "s2=(s2.replace(' ','').lower())\n",
    "\n",
    "s1==s2\n",
    "\n"
   ]
  },
  {
   "cell_type": "markdown",
   "metadata": {},
   "source": [
    "21) В строке 'hello hello Hello hello' средствами Python найти индекс второго вхождения подстроки 'hel' "
   ]
  },
  {
   "cell_type": "code",
   "execution_count": 5,
   "metadata": {},
   "outputs": [
    {
     "data": {
      "text/plain": [
       "6"
      ]
     },
     "execution_count": 5,
     "metadata": {},
     "output_type": "execute_result"
    }
   ],
   "source": [
    "s='hello hello Hello hello' \n",
    "i=s.find('hel')\n",
    "s.find('hel',i+1)\n",
    "    "
   ]
  },
  {
   "cell_type": "markdown",
   "metadata": {},
   "source": [
    "22) В строке 'hello hello Hello hello' средствами Python найти индекс второго с конца вхождения подстроки 'hel'"
   ]
  },
  {
   "cell_type": "code",
   "execution_count": 4,
   "metadata": {},
   "outputs": [
    {
     "data": {
      "text/plain": [
       "6"
      ]
     },
     "execution_count": 4,
     "metadata": {},
     "output_type": "execute_result"
    }
   ],
   "source": [
    "s='hello hello Hello hello' \n",
    "i=s.rfind('hel')\n",
    "s.rfind('hel',0,i-1)"
   ]
  },
  {
   "cell_type": "markdown",
   "metadata": {},
   "source": [
    "23) Из заранее неизвестной строки вырезать подстроку, начинающуюся с 'he' и заканчивающееся 'on' (протестировать на строке ' start hello python world'."
   ]
  },
  {
   "cell_type": "code",
   "execution_count": 5,
   "metadata": {},
   "outputs": [
    {
     "name": "stdout",
     "output_type": "stream",
     "text": [
      "start hello python world\n"
     ]
    },
    {
     "data": {
      "text/plain": [
       "'hello python'"
      ]
     },
     "execution_count": 5,
     "metadata": {},
     "output_type": "execute_result"
    }
   ],
   "source": [
    "s = input()\n",
    "s[s.find('he'):s.find('on')+2]"
   ]
  },
  {
   "cell_type": "markdown",
   "metadata": {},
   "source": [
    "24)* Используя цикл for и функцию enumerate() (см. лекцию 2) в вывести произвольную строку на экран и при этом убрать все пробелы и на их месте вывести номер слова по счету (пример: исходная строка 'hello hello Hello hello' -> выведено на экран 'hello1hello2Hello3hello4')"
   ]
  },
  {
   "cell_type": "code",
   "execution_count": 2,
   "metadata": {},
   "outputs": [
    {
     "name": "stdout",
     "output_type": "stream",
     "text": [
      "hello hello Hello hello\n",
      "hello1hello2Hello3hello4"
     ]
    }
   ],
   "source": [
    "s=input().split() \n",
    "for ind,symb in enumerate(s):\n",
    "    print(symb,ind+1,sep='',end='')"
   ]
  },
  {
   "cell_type": "markdown",
   "metadata": {},
   "source": [
    "25) Сформировать строку форматирования, которая для вызова format('val1', 'val2', 'val3') будет возрващать следующий результат: 'val3-val2-val1-val2-val3'"
   ]
  },
  {
   "cell_type": "code",
   "execution_count": 2,
   "metadata": {},
   "outputs": [
    {
     "data": {
      "text/plain": [
       "'val3-val2-val1-val2-val3'"
      ]
     },
     "execution_count": 2,
     "metadata": {},
     "output_type": "execute_result"
    }
   ],
   "source": [
    "'{2}-{1}-{0}-{1}-{2}'.format('val1', 'val2', 'val3')"
   ]
  },
  {
   "cell_type": "markdown",
   "metadata": {},
   "source": [
    "26) Сформировать строку форматирования fs, которая на при использовании в нижеследующем коде приводит к формированию таблицы, выведенной в следующей ячейке."
   ]
  },
  {
   "cell_type": "code",
   "execution_count": 1,
   "metadata": {
    "scrolled": true
   },
   "outputs": [
    {
     "name": "stdout",
     "output_type": "stream",
     "text": [
      "\n",
      "0123456789012345678901234567890123456789\n",
      "|   1 | ###59.06|      453 | 00000001 |\n",
      "|   5 | ##159.00|  123,453 | 00000111 |\n",
      "|  15 | #-159.10| -     12 | 00010000 |\n",
      "| 105 | -1059.10|    1,200 | 11111111 |\n",
      "\n"
     ]
    }
   ],
   "source": [
    "print(\"\"\"\n",
    "0123456789012345678901234567890123456789\n",
    "|   1 | ###59.06|      453 | 00000001 |\n",
    "|   5 | ##159.00|  123,453 | 00000111 |\n",
    "|  15 | #-159.10| -     12 | 00010000 |\n",
    "| 105 | -1059.10|    1,200 | 11111111 |\n",
    "\"\"\")"
   ]
  },
  {
   "cell_type": "code",
   "execution_count": 10,
   "metadata": {},
   "outputs": [
    {
     "name": "stdout",
     "output_type": "stream",
     "text": [
      "0123456789012345678901234567890123456789\n",
      "|  1|###59.06|     453|00000001|\n",
      "|  5|##159.00| 123.453|00000111|\n",
      "| 15|#-159.10|-     12|00010000|\n",
      "|105|-1059.10|    1200|01111111|\n"
     ]
    }
   ],
   "source": [
    "print('0123456789'*4)\n",
    "def f(a,b,c,d):\n",
    " s2='|{: >3}|{:#>8.2f}|{:=8}|{:0>8}|'.format(a,b,c,d) \n",
    " return s2\n",
    "print(f(1,59.06,453,1))\n",
    "print(f(5,159.00,123.453,111))\n",
    "print(f(15,-159.10,-12,10000))\n",
    "print(f(105,-1059.10,1200,1111111))"
   ]
  },
  {
   "cell_type": "code",
   "execution_count": 1,
   "metadata": {},
   "outputs": [
    {
     "name": "stdout",
     "output_type": "stream",
     "text": [
      "0123456789012345678901234567890123456789\n",
      "|  1|###59.06|     453|00000001|\n",
      "|  5|##159.00| 123.453|00000111|\n",
      "| 15|#-159.10|-     12|00010000|\n",
      "|105|-1059.10|    1200|01111111|\n"
     ]
    }
   ],
   "source": [
    "print('0123456789'*4)\n",
    "def f(a,b,c,d):\n",
    " s2=f'|{a: >3}|{b:#>8.2f}|{c:=8}|{d:0>8}|'\n",
    " return s2\n",
    "print(f(1,59.06,453,1))\n",
    "print(f(5,159.00,123.453,111))\n",
    "print(f(15,-159.10,-12,10000))\n",
    "print(f(105,-1059.10,1200,1111111))"
   ]
  },
  {
   "cell_type": "code",
   "execution_count": null,
   "metadata": {
    "collapsed": true
   },
   "outputs": [],
   "source": []
  }
 ],
 "metadata": {
  "anaconda-cloud": {},
  "kernelspec": {
   "display_name": "Python 3",
   "language": "python",
   "name": "python3"
  },
  "language_info": {
   "codemirror_mode": {
    "name": "ipython",
    "version": 3
   },
   "file_extension": ".py",
   "mimetype": "text/x-python",
   "name": "python",
   "nbconvert_exporter": "python",
   "pygments_lexer": "ipython3",
   "version": "3.6.5"
  }
 },
 "nbformat": 4,
 "nbformat_minor": 1
}
